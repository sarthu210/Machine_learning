{
  "nbformat": 4,
  "nbformat_minor": 0,
  "metadata": {
    "colab": {
      "provenance": [],
      "authorship_tag": "ABX9TyOq8wPLyOE7du3LAO9IQs3m",
      "include_colab_link": true
    },
    "kernelspec": {
      "name": "python3",
      "display_name": "Python 3"
    },
    "language_info": {
      "name": "python"
    }
  },
  "cells": [
    {
      "cell_type": "markdown",
      "metadata": {
        "id": "view-in-github",
        "colab_type": "text"
      },
      "source": [
        "<a href=\"https://colab.research.google.com/github/sarthu210/Machine_learning/blob/main/Experiment_2.ipynb\" target=\"_parent\"><img src=\"https://colab.research.google.com/assets/colab-badge.svg\" alt=\"Open In Colab\"/></a>"
      ]
    },
    {
      "cell_type": "markdown",
      "source": [
        "**Addition of tow numbers**"
      ],
      "metadata": {
        "id": "GM5I8Ispac_1"
      }
    },
    {
      "cell_type": "code",
      "execution_count": null,
      "metadata": {
        "id": "AN83GOSvYHiI"
      },
      "outputs": [],
      "source": [
        "a = int(input(\"Enter the 1st number:\"))\n",
        "b = int(input(\"Enter the 2nd number:\"))\n",
        "\n",
        "c = a + b\n",
        "\n",
        "print(c)"
      ]
    }
  ]
}